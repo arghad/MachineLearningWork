{
 "cells": [
  {
   "cell_type": "markdown",
   "metadata": {},
   "source": [
    "# Regression Week 5: Feature Selection and LASSO (Interpretation)"
   ]
  },
  {
   "cell_type": "markdown",
   "metadata": {},
   "source": [
    "In this notebook, you will use LASSO to select features, building on a pre-implemented solver for LASSO (using GraphLab Create, though you can use other solvers). You will:\n",
    "* Run LASSO with different L1 penalties.\n",
    "* Choose best L1 penalty using a validation set.\n",
    "* Choose best L1 penalty using a validation set, with additional constraint on the size of subset.\n",
    "\n",
    "In the second notebook, you will implement your own LASSO solver, using coordinate descent. "
   ]
  },
  {
   "cell_type": "markdown",
   "metadata": {},
   "source": [
    "# Fire up graphlab create"
   ]
  },
  {
   "cell_type": "code",
   "execution_count": 1,
   "metadata": {
    "collapsed": true
   },
   "outputs": [],
   "source": [
    "import graphlab\n"
   ]
  },
  {
   "cell_type": "markdown",
   "metadata": {},
   "source": [
    "# Load in house sales data\n",
    "\n",
    "Dataset is from house sales in King County, the region where the city of Seattle, WA is located."
   ]
  },
  {
   "cell_type": "code",
   "execution_count": 2,
   "metadata": {
    "collapsed": false,
    "scrolled": true
   },
   "outputs": [
    {
     "name": "stderr",
     "output_type": "stream",
     "text": [
      "[INFO] \u001b[1;32m1452461317 : INFO:     (initialize_globals_from_environment:282): Setting configuration variable GRAPHLAB_FILEIO_ALTERNATIVE_SSL_CERT_FILE to C:\\Users\\arnaout_a\\AppData\\Local\\Dato\\Dato Launcher\\lib\\site-packages\\certifi\\cacert.pem\n",
      "\u001b[0m\u001b[1;32m1452461317 : INFO:     (initialize_globals_from_environment:282): Setting configuration variable GRAPHLAB_FILEIO_ALTERNATIVE_SSL_CERT_DIR to \n",
      "\u001b[0mThis non-commercial license of GraphLab Create is assigned to arghad@gmail.com and will expire on September 22, 2016. For commercial licensing options, visit https://dato.com/buy/.\n",
      "\n",
      "[INFO] Start server at: ipc:///tmp/graphlab_server-2624 - Server binary: C:\\Users\\arnaout_a\\AppData\\Local\\Dato\\Dato Launcher\\lib\\site-packages\\graphlab\\unity_server.exe - Server log: C:\\Users\\ARNAOU~1\\AppData\\Local\\Temp\\graphlab_server_1452461317.log.0\n",
      "[INFO] GraphLab Server Version: 1.7.1\n"
     ]
    }
   ],
   "source": [
    "sales = graphlab.SFrame('kc_house_data.gl/')"
   ]
  },
  {
   "cell_type": "markdown",
   "metadata": {},
   "source": [
    "# Create new features"
   ]
  },
  {
   "cell_type": "markdown",
   "metadata": {},
   "source": [
    "As in Week 2, we consider features that are some transformations of inputs."
   ]
  },
  {
   "cell_type": "code",
   "execution_count": 3,
   "metadata": {
    "collapsed": true
   },
   "outputs": [],
   "source": [
    "from math import log, sqrt\n",
    "sales['sqft_living_sqrt'] = sales['sqft_living'].apply(sqrt)\n",
    "sales['sqft_lot_sqrt'] = sales['sqft_lot'].apply(sqrt)\n",
    "sales['bedrooms_square'] = sales['bedrooms']*sales['bedrooms']\n",
    "\n",
    "# In the dataset, 'floors' was defined with type string, \n",
    "# so we'll convert them to float, before creating a new feature.\n",
    "sales['floors'] = sales['floors'].astype(float) \n",
    "sales['floors_square'] = sales['floors']*sales['floors']"
   ]
  },
  {
   "cell_type": "markdown",
   "metadata": {},
   "source": [
    "* Squaring bedrooms will increase the separation between not many bedrooms (e.g. 1) and lots of bedrooms (e.g. 4) since 1^2 = 1 but 4^2 = 16. Consequently this variable will mostly affect houses with many bedrooms.\n",
    "* On the other hand, taking square root of sqft_living will decrease the separation between big house and small house. The owner may not be exactly twice as happy for getting a house that is twice as big."
   ]
  },
  {
   "cell_type": "markdown",
   "metadata": {},
   "source": [
    "# Learn regression weights with L1 penalty"
   ]
  },
  {
   "cell_type": "markdown",
   "metadata": {},
   "source": [
    "Let us fit a model with all the features available, plus the features we just created above."
   ]
  },
  {
   "cell_type": "code",
   "execution_count": 4,
   "metadata": {
    "collapsed": false
   },
   "outputs": [],
   "source": [
    "all_features = ['bedrooms', 'bedrooms_square',\n",
    "            'bathrooms',\n",
    "            'sqft_living', 'sqft_living_sqrt',\n",
    "            'sqft_lot', 'sqft_lot_sqrt',\n",
    "            'floors', 'floors_square',\n",
    "            'waterfront', 'view', 'condition', 'grade',\n",
    "            'sqft_above',\n",
    "            'sqft_basement',\n",
    "            'yr_built', 'yr_renovated']"
   ]
  },
  {
   "cell_type": "markdown",
   "metadata": {},
   "source": [
    "Applying L1 penalty requires adding an extra parameter (`l1_penalty`) to the linear regression call in GraphLab Create. (Other tools may have separate implementations of LASSO.)  Note that it's important to set `l2_penalty=0` to ensure we don't introduce an additional L2 penalty."
   ]
  },
  {
   "cell_type": "code",
   "execution_count": 5,
   "metadata": {
    "collapsed": false
   },
   "outputs": [
    {
     "name": "stdout",
     "output_type": "stream",
     "text": [
      "PROGRESS: Linear regression:\n",
      "PROGRESS: --------------------------------------------------------\n",
      "PROGRESS: Number of examples          : 21613\n",
      "PROGRESS: Number of features          : 17\n",
      "PROGRESS: Number of unpacked features : 17\n",
      "PROGRESS: Number of coefficients    : 18\n",
      "PROGRESS: Starting Accelerated Gradient (FISTA)\n",
      "PROGRESS: --------------------------------------------------------\n",
      "PROGRESS: +-----------+----------+-----------+--------------+--------------------+---------------+\n",
      "PROGRESS: | Iteration | Passes   | Step size | Elapsed Time | Training-max_error | Training-rmse |\n",
      "PROGRESS: +-----------+----------+-----------+--------------+--------------------+---------------+\n",
      "PROGRESS: Tuning step size. First iteration could take longer than subsequent iterations.\n",
      "PROGRESS: | 1         | 2        | 0.000002  | 1.152066     | 6962915.603493     | 426631.749026 |\n",
      "PROGRESS: | 2         | 3        | 0.000002  | 1.167066     | 6843144.200219     | 392488.929838 |\n",
      "PROGRESS: | 3         | 4        | 0.000002  | 1.181067     | 6831900.032123     | 385340.166783 |\n",
      "PROGRESS: | 4         | 5        | 0.000002  | 1.194068     | 6847166.848958     | 384842.383767 |\n",
      "PROGRESS: | 5         | 6        | 0.000002  | 1.209069     | 6869667.895833     | 385998.458623 |\n",
      "PROGRESS: | 6         | 7        | 0.000002  | 1.221070     | 6847177.773672     | 380824.455891 |\n",
      "PROGRESS: +-----------+----------+-----------+--------------+--------------------+---------------+\n",
      "PROGRESS: TERMINATED: Iteration limit reached.\n",
      "PROGRESS: This model may not be optimal. To improve it, consider increasing `max_iterations`.\n"
     ]
    }
   ],
   "source": [
    "model_all = graphlab.linear_regression.create(sales, target='price', features=all_features,\n",
    "                                              validation_set=None, \n",
    "                                              l2_penalty=0., l1_penalty=1e10)"
   ]
  },
  {
   "cell_type": "markdown",
   "metadata": {},
   "source": [
    "Find what features had non-zero weight."
   ]
  },
  {
   "cell_type": "code",
   "execution_count": 9,
   "metadata": {
    "collapsed": false
   },
   "outputs": [
    {
     "name": "stdout",
     "output_type": "stream",
     "text": [
      "Learned polynomial for degree 17:\n",
      "       14         13         5         4        3\n",
      "20.02 x  + 842.1 x  + 350.1 x + 24.42 x + 8469 x + 2.749e+05\n",
      "+------------------+-------+---------------+\n",
      "|       name       | index |     value     |\n",
      "+------------------+-------+---------------+\n",
      "|   (intercept)    |  None |  274873.05595 |\n",
      "|     bedrooms     |  None |      0.0      |\n",
      "| bedrooms_square  |  None |      0.0      |\n",
      "|    bathrooms     |  None | 8468.53108691 |\n",
      "|   sqft_living    |  None | 24.4207209824 |\n",
      "| sqft_living_sqrt |  None | 350.060553386 |\n",
      "|     sqft_lot     |  None |      0.0      |\n",
      "|  sqft_lot_sqrt   |  None |      0.0      |\n",
      "|      floors      |  None |      0.0      |\n",
      "|  floors_square   |  None |      0.0      |\n",
      "|    waterfront    |  None |      0.0      |\n",
      "|       view       |  None |      0.0      |\n",
      "|    condition     |  None |      0.0      |\n",
      "|      grade       |  None | 842.068034898 |\n",
      "|    sqft_above    |  None | 20.0247224171 |\n",
      "|  sqft_basement   |  None |      0.0      |\n",
      "|     yr_built     |  None |      0.0      |\n",
      "|   yr_renovated   |  None |      0.0      |\n",
      "+------------------+-------+---------------+\n",
      "[18 rows x 3 columns]\n",
      "\n"
     ]
    }
   ],
   "source": [
    "import numpy\n",
    "def print_coefficients(model):    \n",
    "    # Get the degree of the polynomial\n",
    "    deg = len(model.coefficients['value'])-1\n",
    "\n",
    "    # Get learned parameters as a list\n",
    "    w = list(model.coefficients['value'])\n",
    "\n",
    "    # Numpy has a nifty function to print out polynomials in a pretty way\n",
    "    # (We'll use it, but it needs the parameters in the reverse order)\n",
    "    print 'Learned polynomial for degree ' + str(deg) + ':'\n",
    "    w.reverse()\n",
    "    print numpy.poly1d(w)\n",
    "\n",
    "print_coefficients(model_all)\n",
    "\n",
    "model_all.coefficients.print_rows(num_rows=20)\n"
   ]
  },
  {
   "cell_type": "markdown",
   "metadata": {},
   "source": [
    "Note that a majority of the weights have been set to zero. So by setting an L1 penalty that's large enough, we are performing a subset selection. \n",
    "\n",
    "***QUIZ QUESTION***:\n",
    "According to this list of weights, which of the features have been chosen? "
   ]
  },
  {
   "cell_type": "markdown",
   "metadata": {},
   "source": [
    "# Selecting an L1 penalty"
   ]
  },
  {
   "cell_type": "markdown",
   "metadata": {},
   "source": [
    "To find a good L1 penalty, we will explore multiple values using a validation set. Let us do three way split into train, validation, and test sets:\n",
    "* Split our sales data into 2 sets: training and test\n",
    "* Further split our training data into two sets: train, validation\n",
    "\n",
    "Be *very* careful that you use seed = 1 to ensure you get the same answer!"
   ]
  },
  {
   "cell_type": "code",
   "execution_count": 10,
   "metadata": {
    "collapsed": true
   },
   "outputs": [],
   "source": [
    "(training_and_validation, testing) = sales.random_split(.9,seed=1) # initial train/test split\n",
    "(training, validation) = training_and_validation.random_split(0.5, seed=1) # split training into train and validate"
   ]
  },
  {
   "cell_type": "markdown",
   "metadata": {},
   "source": [
    "Next, we write a loop that does the following:\n",
    "* For `l1_penalty` in [10^1, 10^1.5, 10^2, 10^2.5, ..., 10^7] (to get this in Python, type `np.logspace(1, 7, num=13)`.)\n",
    "    * Fit a regression model with a given `l1_penalty` on TRAIN data. Specify `l1_penalty=l1_penalty` and `l2_penalty=0.` in the parameter list.\n",
    "    * Compute the RSS on VALIDATION data (here you will want to use `.predict()`) for that `l1_penalty`\n",
    "* Report which `l1_penalty` produced the lowest RSS on validation data.\n",
    "\n",
    "When you call `linear_regression.create()` make sure you set `validation_set = None`.\n",
    "\n",
    "Note: you can turn off the print out of `linear_regression.create()` with `verbose = False`"
   ]
  },
  {
   "cell_type": "code",
   "execution_count": 14,
   "metadata": {
    "collapsed": true
   },
   "outputs": [],
   "source": [
    "def polynomial_lasso_regression(data, model_features, l1_penalty):\n",
    "    model = graphlab.linear_regression.create(data, target='price', features=model_features,\n",
    "                                              l2_penalty=0.,\n",
    "                                              l1_penalty=l1_penalty,\n",
    "                                              validation_set=None, verbose=False)\n",
    "    return model\n",
    "\n",
    "def "
   ]
  },
  {
   "cell_type": "code",
   "execution_count": 33,
   "metadata": {
    "collapsed": false
   },
   "outputs": [
    {
     "name": "stdout",
     "output_type": "stream",
     "text": [
      "lambda = 1.00e+01\n",
      "RSS Error is: 6.25766285142e+14\n",
      "\n",
      "\n",
      "lambda = 3.16e+01\n",
      "RSS Error is: 6.25766285362e+14\n",
      "\n",
      "\n",
      "lambda = 1.00e+02\n",
      "RSS Error is: 6.25766286058e+14\n",
      "\n",
      "\n",
      "lambda = 3.16e+02\n",
      "RSS Error is: 6.25766288257e+14\n",
      "\n",
      "\n",
      "lambda = 1.00e+03\n",
      "RSS Error is: 6.25766295212e+14\n",
      "\n",
      "\n",
      "lambda = 3.16e+03\n",
      "RSS Error is: 6.25766317206e+14\n",
      "\n",
      "\n",
      "lambda = 1.00e+04\n",
      "RSS Error is: 6.25766386761e+14\n",
      "\n",
      "\n",
      "lambda = 3.16e+04\n",
      "RSS Error is: 6.25766606749e+14\n",
      "\n",
      "\n",
      "lambda = 1.00e+05\n",
      "RSS Error is: 6.25767302792e+14\n",
      "\n",
      "\n",
      "lambda = 3.16e+05\n",
      "RSS Error is: 6.25769507644e+14\n",
      "\n",
      "\n",
      "lambda = 1.00e+06\n",
      "RSS Error is: 6.25776517727e+14\n",
      "\n",
      "\n",
      "lambda = 3.16e+06\n",
      "RSS Error is: 6.25799062845e+14\n",
      "\n",
      "\n",
      "lambda = 1.00e+07\n",
      "RSS Error is: 6.25883719085e+14\n",
      "\n",
      "\n"
     ]
    }
   ],
   "source": [
    "for l1_penalty in numpy.logspace(1, 7, num=13):\n",
    "    model = polynomial_lasso_regression(training, all_features, l1_penalty=l1_penalty)\n",
    "    print 'lambda = %.2e' % l1_penalty        \n",
    "    print 'RSS Error is: ' + str(((validation['price'] - model.predict(validation))**2).sum())\n",
    "    \n",
    "    print '\\n'"
   ]
  },
  {
   "cell_type": "code",
   "execution_count": null,
   "metadata": {
    "collapsed": false
   },
   "outputs": [],
   "source": []
  },
  {
   "cell_type": "markdown",
   "metadata": {},
   "source": [
    "*** QUIZ QUESTIONS ***\n",
    "1. What was the best value for the `l1_penalty`?\n",
    "2. What is the RSS on TEST data of the model with the best `l1_penalty`?"
   ]
  },
  {
   "cell_type": "code",
   "execution_count": null,
   "metadata": {
    "collapsed": false
   },
   "outputs": [],
   "source": []
  },
  {
   "cell_type": "markdown",
   "metadata": {},
   "source": [
    "***QUIZ QUESTION***\n",
    "Also, using this value of L1 penalty, how many nonzero weights do you have?"
   ]
  },
  {
   "cell_type": "code",
   "execution_count": 34,
   "metadata": {
    "collapsed": false
   },
   "outputs": [
    {
     "name": "stdout",
     "output_type": "stream",
     "text": [
      "+------------------+-------+------------------+\n",
      "|       name       | index |      value       |\n",
      "+------------------+-------+------------------+\n",
      "|   (intercept)    |  None |  18993.4272128   |\n",
      "|     bedrooms     |  None |  7936.96767903   |\n",
      "| bedrooms_square  |  None |  936.993368193   |\n",
      "|    bathrooms     |  None |  25409.5889341   |\n",
      "|   sqft_living    |  None |  39.1151363797   |\n",
      "| sqft_living_sqrt |  None |  1124.65021281   |\n",
      "|     sqft_lot     |  None | 0.00348361822299 |\n",
      "|  sqft_lot_sqrt   |  None |  148.258391011   |\n",
      "|      floors      |  None |   21204.335467   |\n",
      "|  floors_square   |  None |  12915.5243361   |\n",
      "|    waterfront    |  None |  601905.594545   |\n",
      "|       view       |  None |  93312.8573119   |\n",
      "|    condition     |  None |  6609.03571245   |\n",
      "|      grade       |  None |  6206.93999188   |\n",
      "|    sqft_above    |  None |  43.2870534193   |\n",
      "|  sqft_basement   |  None |  122.367827534   |\n",
      "|     yr_built     |  None |  9.43363539372   |\n",
      "|   yr_renovated   |  None |  56.0720034488   |\n",
      "+------------------+-------+------------------+\n",
      "[18 rows x 3 columns]\n",
      "\n",
      "18\n"
     ]
    }
   ],
   "source": [
    "model = polynomial_lasso_regression(training, all_features, l1_penalty=1e01)\n",
    "model.coefficients.print_rows(num_rows=20)\n",
    "print model['coefficients']['value'].nnz()"
   ]
  },
  {
   "cell_type": "markdown",
   "metadata": {},
   "source": [
    "# Limit the number of nonzero weights\n",
    "\n",
    "What if we absolutely wanted to limit ourselves to, say, 7 features? This may be important if we want to derive \"a rule of thumb\" --- an interpretable model that has only a few features in them."
   ]
  },
  {
   "cell_type": "markdown",
   "metadata": {},
   "source": [
    "In this section, you are going to implement a simple, two phase procedure to achive this goal:\n",
    "1. Explore a large range of `l1_penalty` values to find a narrow region of `l1_penalty` values where models are likely to have the desired number of non-zero weights.\n",
    "2. Further explore the narrow region you found to find a good value for `l1_penalty` that achieves the desired sparsity.  Here, we will again use a validation set to choose the best value for `l1_penalty`."
   ]
  },
  {
   "cell_type": "code",
   "execution_count": 35,
   "metadata": {
    "collapsed": true
   },
   "outputs": [],
   "source": [
    "max_nonzeros = 7"
   ]
  },
  {
   "cell_type": "markdown",
   "metadata": {},
   "source": [
    "## Exploring the larger range of values to find a narrow range with the desired sparsity\n",
    "\n",
    "Let's define a wide range of possible `l1_penalty_values`:"
   ]
  },
  {
   "cell_type": "code",
   "execution_count": 56,
   "metadata": {
    "collapsed": false
   },
   "outputs": [],
   "source": [
    "l1_penalty_values = numpy.logspace(8, 10, num=20)"
   ]
  },
  {
   "cell_type": "markdown",
   "metadata": {},
   "source": [
    "Now, implement a loop that search through this space of possible `l1_penalty` values:\n",
    "\n",
    "* For `l1_penalty` in `np.logspace(8, 10, num=20)`:\n",
    "    * Fit a regression model with a given `l1_penalty` on TRAIN data. Specify `l1_penalty=l1_penalty` and `l2_penalty=0.` in the parameter list. When you call `linear_regression.create()` make sure you set `validation_set = None`\n",
    "    * Extract the weights of the model and count the number of nonzeros. Save the number of nonzeros to a list.\n",
    "        * *Hint: `model['coefficients']['value']` gives you an SArray with the parameters you learned.  If you call the method `.nnz()` on it, you will find the number of non-zero parameters!* "
   ]
  },
  {
   "cell_type": "code",
   "execution_count": 65,
   "metadata": {
    "collapsed": false
   },
   "outputs": [
    {
     "name": "stdout",
     "output_type": "stream",
     "text": [
      "[18, 18, 18, 18, 17, 17, 17, 17, 17, 16, 15, 15, 13, 12, 10, 6, 5, 3, 1, 1]\n"
     ]
    }
   ],
   "source": [
    "list_of_nnz = []\n",
    "l1_penalty_min = 0\n",
    "l1_penalty_max = 0\n",
    "min_found = False\n",
    "max_found = False\n",
    "l1_penalty_values = numpy.logspace(8, 10, num=20)\n",
    "for l1_penalty in l1_penalty_values:\n",
    "    model =  polynomial_lasso_regression(training, all_features, l1_penalty=l1_penalty)\n",
    "    model_nn_zeros = model['coefficients']['value'].nnz()\n",
    "    if (model_nn_zeros > max_nonzeros):\n",
    "        l1_penalty_min = l1_penalty\n",
    "    if (model_nn_zeros < max_nonzeros and not max_found):\n",
    "        l1_penalty_max = l1_penalty\n",
    "        max_found = True\n",
    "    list_of_nnz.append(model_nn_zeros)\n",
    "\n",
    "print list_of_nnz"
   ]
  },
  {
   "cell_type": "code",
   "execution_count": 39,
   "metadata": {
    "collapsed": false
   },
   "outputs": [
    {
     "name": "stdout",
     "output_type": "stream",
     "text": [
      "[  1.00000000e+08   1.27427499e+08   1.62377674e+08   2.06913808e+08\n",
      "   2.63665090e+08   3.35981829e+08   4.28133240e+08   5.45559478e+08\n",
      "   6.95192796e+08   8.85866790e+08   1.12883789e+09   1.43844989e+09\n",
      "   1.83298071e+09   2.33572147e+09   2.97635144e+09   3.79269019e+09\n",
      "   4.83293024e+09   6.15848211e+09   7.84759970e+09   1.00000000e+10]\n",
      "[18, 18, 18, 18, 17, 17, 17, 17, 17, 16, 15, 15, 13, 12, 10, 6, 5, 3, 1, 1]\n"
     ]
    }
   ],
   "source": [
    "print l1_penalty_values\n",
    "print list_of_nnz\n"
   ]
  },
  {
   "cell_type": "markdown",
   "metadata": {},
   "source": [
    "Out of this large range, we want to find the two ends of our desired narrow range of `l1_penalty`.  At one end, we will have `l1_penalty` values that have too few non-zeros, and at the other end, we will have an `l1_penalty` that has too many non-zeros.  \n",
    "\n",
    "More formally, find:\n",
    "* The largest `l1_penalty` that has more non-zeros than `max_nonzero` (if we pick a penalty smaller than this value, we will definitely have too many non-zero weights)\n",
    "    * Store this value in the variable `l1_penalty_min` (we will use it later)\n",
    "* The smallest `l1_penalty` that has fewer non-zeros than `max_nonzero` (if we pick a penalty larger than this value, we will definitely have too few non-zero weights)\n",
    "    * Store this value in the variable `l1_penalty_max` (we will use it later)\n",
    "\n",
    "\n",
    "*Hint: there are many ways to do this, e.g.:*\n",
    "* Programmatically within the loop above\n",
    "* Creating a list with the number of non-zeros for each value of `l1_penalty` and inspecting it to find the appropriate boundaries."
   ]
  },
  {
   "cell_type": "code",
   "execution_count": 66,
   "metadata": {
    "collapsed": false
   },
   "outputs": [
    {
     "name": "stdout",
     "output_type": "stream",
     "text": [
      "2976351441.63\n",
      "3792690190.73\n"
     ]
    }
   ],
   "source": [
    "print l1_penalty_min \n",
    "print l1_penalty_max"
   ]
  },
  {
   "cell_type": "markdown",
   "metadata": {},
   "source": [
    "***QUIZ QUESTIONS***\n",
    "\n",
    "What values did you find for `l1_penalty_min` and`l1_penalty_max`? "
   ]
  },
  {
   "cell_type": "markdown",
   "metadata": {},
   "source": [
    "## Exploring the narrow range of values to find the solution with the right number of non-zeros that has lowest RSS on the validation set \n",
    "\n",
    "We will now explore the narrow region of `l1_penalty` values we found:"
   ]
  },
  {
   "cell_type": "code",
   "execution_count": 67,
   "metadata": {
    "collapsed": false
   },
   "outputs": [],
   "source": [
    "l1_penalty_values = numpy.linspace(l1_penalty_min,l1_penalty_max,20)"
   ]
  },
  {
   "cell_type": "markdown",
   "metadata": {},
   "source": [
    "* For `l1_penalty` in `np.linspace(l1_penalty_min,l1_penalty_max,20)`:\n",
    "    * Fit a regression model with a given `l1_penalty` on TRAIN data. Specify `l1_penalty=l1_penalty` and `l2_penalty=0.` in the parameter list. When you call `linear_regression.create()` make sure you set `validation_set = None`\n",
    "    * Measure the RSS of the learned model on the VALIDATION set\n",
    "\n",
    "Find the model that the lowest RSS on the VALIDATION set and has sparsity *equal* to `max_nonzero`."
   ]
  },
  {
   "cell_type": "code",
   "execution_count": 68,
   "metadata": {
    "collapsed": false
   },
   "outputs": [
    {
     "name": "stdout",
     "output_type": "stream",
     "text": [
      "lambda = 3.45e+09\n",
      "RSS Error is: 1.04693748875e+15\n",
      "lambda = 3.49e+09\n",
      "RSS Error is: 1.05114762561e+15\n",
      "lambda = 3.53e+09\n",
      "RSS Error is: 1.05599273534e+15\n",
      "lambda = 3.58e+09\n",
      "RSS Error is: 1.06079953176e+15\n"
     ]
    }
   ],
   "source": [
    "for l1_penalty in l1_penalty_values:\n",
    "    model =  polynomial_lasso_regression(training, all_features, l1_penalty=l1_penalty)\n",
    "    model_nn_zeros = model['coefficients']['value'].nnz()\n",
    "    if (model_nn_zeros == max_nonzeros):\n",
    "        print 'lambda = %.2e' % l1_penalty        \n",
    "        print 'RSS Error is: ' + str(((validation['price'] - model.predict(validation))**2).sum())"
   ]
  },
  {
   "cell_type": "markdown",
   "metadata": {},
   "source": [
    "***QUIZ QUESTIONS***\n",
    "1. What value of `l1_penalty` in our narrow range has the lowest RSS on the VALIDATION set and has sparsity *equal* to `max_nonzeros`?\n",
    "2. What features in this model have non-zero coefficients?"
   ]
  },
  {
   "cell_type": "code",
   "execution_count": 69,
   "metadata": {
    "collapsed": false
   },
   "outputs": [
    {
     "name": "stdout",
     "output_type": "stream",
     "text": [
      "+------------------+-------+---------------+\n",
      "|       name       | index |     value     |\n",
      "+------------------+-------+---------------+\n",
      "|   (intercept)    |  None |  222308.77574 |\n",
      "|     bedrooms     |  None | 657.980234308 |\n",
      "| bedrooms_square  |  None |      0.0      |\n",
      "|    bathrooms     |  None | 15868.6497836 |\n",
      "|   sqft_living    |  None | 32.4055823413 |\n",
      "| sqft_living_sqrt |  None | 689.860189651 |\n",
      "|     sqft_lot     |  None |      0.0      |\n",
      "|  sqft_lot_sqrt   |  None |      0.0      |\n",
      "|      floors      |  None |      0.0      |\n",
      "|  floors_square   |  None |      0.0      |\n",
      "|    waterfront    |  None |      0.0      |\n",
      "|       view       |  None |      0.0      |\n",
      "|    condition     |  None |      0.0      |\n",
      "|      grade       |  None | 2897.72202982 |\n",
      "|    sqft_above    |  None | 30.0047350002 |\n",
      "|  sqft_basement   |  None |      0.0      |\n",
      "|     yr_built     |  None |      0.0      |\n",
      "|   yr_renovated   |  None |      0.0      |\n",
      "+------------------+-------+---------------+\n",
      "[18 rows x 3 columns]\n",
      "\n",
      "7\n"
     ]
    }
   ],
   "source": [
    "model =  polynomial_lasso_regression(training, all_features, l1_penalty=3.45e+09)\n",
    "model.coefficients.print_rows(num_rows=20)\n",
    "print model['coefficients']['value'].nnz()"
   ]
  }
 ],
 "metadata": {
  "kernelspec": {
   "display_name": "Python 2",
   "language": "python",
   "name": "python2"
  },
  "language_info": {
   "codemirror_mode": {
    "name": "ipython",
    "version": 2
   },
   "file_extension": ".py",
   "mimetype": "text/x-python",
   "name": "python",
   "nbconvert_exporter": "python",
   "pygments_lexer": "ipython2",
   "version": "2.7.10"
  }
 },
 "nbformat": 4,
 "nbformat_minor": 0
}
